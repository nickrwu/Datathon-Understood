{
 "metadata": {
  "language_info": {
   "codemirror_mode": {
    "name": "ipython",
    "version": 3
   },
   "file_extension": ".py",
   "mimetype": "text/x-python",
   "name": "python",
   "nbconvert_exporter": "python",
   "pygments_lexer": "ipython3",
   "version": "3.8.3-final"
  },
  "orig_nbformat": 2,
  "kernelspec": {
   "name": "python3",
   "display_name": "Python 3"
  }
 },
 "nbformat": 4,
 "nbformat_minor": 2,
 "cells": [
  {
   "cell_type": "code",
   "execution_count": 3,
   "metadata": {},
   "outputs": [
    {
     "output_type": "execute_result",
     "data": {
      "text/plain": [
       "                                   Org Name         EIN Current FY Start  \\\n",
       "0     Marjorie F Campbell Educational Trust  10-6006537       2018-01-01   \n",
       "1   Friends of Westons Council On Aging Inc  11-0016148       2018-07-01   \n",
       "2                     Connection Fund, Inc.  11-0017051       2017-07-01   \n",
       "3  Jhd Jr All of Our Children Memorial Fund  11-0025081              NaN   \n",
       "4                                 Mvnhc Inc  11-0026102              NaN   \n",
       "\n",
       "  Current FY End Ruling Year Form Year Form Type Address Line 1  \\\n",
       "0     2018-12-31        2007      2018     990PF    PO Box 1810   \n",
       "1     2019-06-30        1990      2018     990EZ     PO Box 672   \n",
       "2     2018-06-30        1990      2017       990  955 S Main St   \n",
       "3            NaN        1990       NaN       NaN   771 Broadway   \n",
       "4            NaN        1990       NaN       NaN   107 W 4th St   \n",
       "\n",
       "  Address Line 2          City  ... Legal Fees  \\\n",
       "0            NaN       Sanford  ...        NaN   \n",
       "1            NaN        Weston  ...        NaN   \n",
       "2            NaN    Middletown  ...   $217,833   \n",
       "3            NaN      Paterson  ...        NaN   \n",
       "4            NaN  Mount Vernon  ...        NaN   \n",
       "\n",
       "  Pension Plan Contributions   Employee Benefits Printing and Publications  \\\n",
       "0                                            NaN                       NaN   \n",
       "1                                            NaN                    $5,423   \n",
       "2                                            NaN                       NaN   \n",
       "3                                            NaN                       NaN   \n",
       "4                                            NaN                       NaN   \n",
       "\n",
       "  Professional Fundraising Expenses      Principal Officer    Org Leader  \\\n",
       "0                               NaN                    NaN           NaN   \n",
       "1                               NaN                    NaN           NaN   \n",
       "2                           $10,180  LISA DEMATTEIS-LEPORE  Peter Nucci    \n",
       "3                               NaN                    NaN           NaN   \n",
       "4                               NaN                    NaN           NaN   \n",
       "\n",
       "  Primary Contact Name       Primary Contact Title      Primary Contact Email  \\\n",
       "0                  NaN                         NaN                        NaN   \n",
       "1                  NaN                         NaN                        NaN   \n",
       "2           Heide Erb   Communications Coordinator  herb@theconnectioninc.org   \n",
       "3                  NaN                         NaN                        NaN   \n",
       "4                  NaN                         NaN                        NaN   \n",
       "\n",
       "  Number of Employees  \n",
       "0                 NaN  \n",
       "1                 NaN  \n",
       "2                  63  \n",
       "3                 NaN  \n",
       "4                 NaN  \n",
       "\n",
       "[5 rows x 66 columns]"
      ],
      "text/html": "<div>\n<style scoped>\n    .dataframe tbody tr th:only-of-type {\n        vertical-align: middle;\n    }\n\n    .dataframe tbody tr th {\n        vertical-align: top;\n    }\n\n    .dataframe thead th {\n        text-align: right;\n    }\n</style>\n<table border=\"1\" class=\"dataframe\">\n  <thead>\n    <tr style=\"text-align: right;\">\n      <th></th>\n      <th>Org Name</th>\n      <th>EIN</th>\n      <th>Current FY Start</th>\n      <th>Current FY End</th>\n      <th>Ruling Year</th>\n      <th>Form Year</th>\n      <th>Form Type</th>\n      <th>Address Line 1</th>\n      <th>Address Line 2</th>\n      <th>City</th>\n      <th>...</th>\n      <th>Legal Fees</th>\n      <th>Pension Plan Contributions   Employee Benefits</th>\n      <th>Printing and Publications</th>\n      <th>Professional Fundraising Expenses</th>\n      <th>Principal Officer</th>\n      <th>Org Leader</th>\n      <th>Primary Contact Name</th>\n      <th>Primary Contact Title</th>\n      <th>Primary Contact Email</th>\n      <th>Number of Employees</th>\n    </tr>\n  </thead>\n  <tbody>\n    <tr>\n      <th>0</th>\n      <td>Marjorie F Campbell Educational Trust</td>\n      <td>10-6006537</td>\n      <td>2018-01-01</td>\n      <td>2018-12-31</td>\n      <td>2007</td>\n      <td>2018</td>\n      <td>990PF</td>\n      <td>PO Box 1810</td>\n      <td>NaN</td>\n      <td>Sanford</td>\n      <td>...</td>\n      <td>NaN</td>\n      <td>NaN</td>\n      <td>NaN</td>\n      <td>NaN</td>\n      <td>NaN</td>\n      <td>NaN</td>\n      <td>NaN</td>\n      <td>NaN</td>\n      <td>NaN</td>\n      <td>NaN</td>\n    </tr>\n    <tr>\n      <th>1</th>\n      <td>Friends of Westons Council On Aging Inc</td>\n      <td>11-0016148</td>\n      <td>2018-07-01</td>\n      <td>2019-06-30</td>\n      <td>1990</td>\n      <td>2018</td>\n      <td>990EZ</td>\n      <td>PO Box 672</td>\n      <td>NaN</td>\n      <td>Weston</td>\n      <td>...</td>\n      <td>NaN</td>\n      <td>NaN</td>\n      <td>$5,423</td>\n      <td>NaN</td>\n      <td>NaN</td>\n      <td>NaN</td>\n      <td>NaN</td>\n      <td>NaN</td>\n      <td>NaN</td>\n      <td>NaN</td>\n    </tr>\n    <tr>\n      <th>2</th>\n      <td>Connection Fund, Inc.</td>\n      <td>11-0017051</td>\n      <td>2017-07-01</td>\n      <td>2018-06-30</td>\n      <td>1990</td>\n      <td>2017</td>\n      <td>990</td>\n      <td>955 S Main St</td>\n      <td>NaN</td>\n      <td>Middletown</td>\n      <td>...</td>\n      <td>$217,833</td>\n      <td>NaN</td>\n      <td>NaN</td>\n      <td>$10,180</td>\n      <td>LISA DEMATTEIS-LEPORE</td>\n      <td>Peter Nucci</td>\n      <td>Heide Erb</td>\n      <td>Communications Coordinator</td>\n      <td>herb@theconnectioninc.org</td>\n      <td>63</td>\n    </tr>\n    <tr>\n      <th>3</th>\n      <td>Jhd Jr All of Our Children Memorial Fund</td>\n      <td>11-0025081</td>\n      <td>NaN</td>\n      <td>NaN</td>\n      <td>1990</td>\n      <td>NaN</td>\n      <td>NaN</td>\n      <td>771 Broadway</td>\n      <td>NaN</td>\n      <td>Paterson</td>\n      <td>...</td>\n      <td>NaN</td>\n      <td>NaN</td>\n      <td>NaN</td>\n      <td>NaN</td>\n      <td>NaN</td>\n      <td>NaN</td>\n      <td>NaN</td>\n      <td>NaN</td>\n      <td>NaN</td>\n      <td>NaN</td>\n    </tr>\n    <tr>\n      <th>4</th>\n      <td>Mvnhc Inc</td>\n      <td>11-0026102</td>\n      <td>NaN</td>\n      <td>NaN</td>\n      <td>1990</td>\n      <td>NaN</td>\n      <td>NaN</td>\n      <td>107 W 4th St</td>\n      <td>NaN</td>\n      <td>Mount Vernon</td>\n      <td>...</td>\n      <td>NaN</td>\n      <td>NaN</td>\n      <td>NaN</td>\n      <td>NaN</td>\n      <td>NaN</td>\n      <td>NaN</td>\n      <td>NaN</td>\n      <td>NaN</td>\n      <td>NaN</td>\n      <td>NaN</td>\n    </tr>\n  </tbody>\n</table>\n<p>5 rows × 66 columns</p>\n</div>"
     },
     "metadata": {},
     "execution_count": 3
    }
   ],
   "source": [
    "\n",
    "import numpy as np\n",
    "import pandas as pd\n",
    "import matplotlib.pyplot as plt\n",
    "\n",
    "\n",
    "data = pd.read_csv('Data/stitchedGuide.csv')\n",
    "\n",
    "data.head()"
   ]
  },
  {
   "cell_type": "code",
   "execution_count": null,
   "metadata": {},
   "outputs": [],
   "source": []
  }
 ]
}